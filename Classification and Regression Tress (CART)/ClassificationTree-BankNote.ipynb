{
 "cells": [
  {
   "cell_type": "code",
   "execution_count": 1,
   "metadata": {},
   "outputs": [],
   "source": [
    "import numpy as np\n",
    "from sklearn.model_selection import train_test_split\n",
    "import pandas as pd"
   ]
  },
  {
   "cell_type": "code",
   "execution_count": 2,
   "metadata": {},
   "outputs": [],
   "source": [
    "df = pd.read_csv('https://archive.ics.uci.edu/ml/machine-learning-databases/00267/data_banknote_authentication.txt', names = [\"variance\", \"skewness\", \"curtosis\", \"entropy\", \"class\"])"
   ]
  },
  {
   "cell_type": "code",
   "execution_count": 3,
   "metadata": {},
   "outputs": [
    {
     "data": {
      "text/html": [
       "<div>\n",
       "<style scoped>\n",
       "    .dataframe tbody tr th:only-of-type {\n",
       "        vertical-align: middle;\n",
       "    }\n",
       "\n",
       "    .dataframe tbody tr th {\n",
       "        vertical-align: top;\n",
       "    }\n",
       "\n",
       "    .dataframe thead th {\n",
       "        text-align: right;\n",
       "    }\n",
       "</style>\n",
       "<table border=\"1\" class=\"dataframe\">\n",
       "  <thead>\n",
       "    <tr style=\"text-align: right;\">\n",
       "      <th></th>\n",
       "      <th>variance</th>\n",
       "      <th>skewness</th>\n",
       "      <th>curtosis</th>\n",
       "      <th>entropy</th>\n",
       "      <th>class</th>\n",
       "    </tr>\n",
       "  </thead>\n",
       "  <tbody>\n",
       "    <tr>\n",
       "      <th>0</th>\n",
       "      <td>3.62160</td>\n",
       "      <td>8.6661</td>\n",
       "      <td>-2.8073</td>\n",
       "      <td>-0.44699</td>\n",
       "      <td>0.0</td>\n",
       "    </tr>\n",
       "    <tr>\n",
       "      <th>1</th>\n",
       "      <td>4.54590</td>\n",
       "      <td>8.1674</td>\n",
       "      <td>-2.4586</td>\n",
       "      <td>-1.46210</td>\n",
       "      <td>0.0</td>\n",
       "    </tr>\n",
       "    <tr>\n",
       "      <th>2</th>\n",
       "      <td>3.86600</td>\n",
       "      <td>-2.6383</td>\n",
       "      <td>1.9242</td>\n",
       "      <td>0.10645</td>\n",
       "      <td>0.0</td>\n",
       "    </tr>\n",
       "    <tr>\n",
       "      <th>3</th>\n",
       "      <td>3.45660</td>\n",
       "      <td>9.5228</td>\n",
       "      <td>-4.0112</td>\n",
       "      <td>-3.59440</td>\n",
       "      <td>0.0</td>\n",
       "    </tr>\n",
       "    <tr>\n",
       "      <th>4</th>\n",
       "      <td>0.32924</td>\n",
       "      <td>-4.4552</td>\n",
       "      <td>4.5718</td>\n",
       "      <td>-0.98880</td>\n",
       "      <td>0.0</td>\n",
       "    </tr>\n",
       "  </tbody>\n",
       "</table>\n",
       "</div>"
      ],
      "text/plain": [
       "   variance  skewness  curtosis  entropy  class\n",
       "0   3.62160    8.6661   -2.8073 -0.44699    0.0\n",
       "1   4.54590    8.1674   -2.4586 -1.46210    0.0\n",
       "2   3.86600   -2.6383    1.9242  0.10645    0.0\n",
       "3   3.45660    9.5228   -4.0112 -3.59440    0.0\n",
       "4   0.32924   -4.4552    4.5718 -0.98880    0.0"
      ]
     },
     "execution_count": 3,
     "metadata": {},
     "output_type": "execute_result"
    }
   ],
   "source": [
    "df = df.astype(np.float64)\n",
    "df.head()"
   ]
  },
  {
   "cell_type": "code",
   "execution_count": 4,
   "metadata": {},
   "outputs": [],
   "source": [
    "train, test = train_test_split(df, test_size = 0.5)"
   ]
  },
  {
   "cell_type": "code",
   "execution_count": 5,
   "metadata": {},
   "outputs": [],
   "source": [
    "train_data = train.values\n",
    "test_data = test.values"
   ]
  },
  {
   "cell_type": "code",
   "execution_count": 6,
   "metadata": {},
   "outputs": [],
   "source": [
    "def isPure (data) :\n",
    "    label = data[:, -1]\n",
    "    different = np.unique(label)\n",
    "    \n",
    "    if len(different) == 1 :\n",
    "        return True\n",
    "    else:\n",
    "        return False\n",
    "\n",
    "def predict (data) :\n",
    "    label = data[:, -1]\n",
    "    different, counts = np.unique(label, return_counts = True)\n",
    "    \n",
    "    i = counts.argmax()\n",
    "    return different[i]"
   ]
  },
  {
   "cell_type": "code",
   "execution_count": 7,
   "metadata": {},
   "outputs": [],
   "source": [
    "def potential_splits (data) :\n",
    "    potential_split = {}\n",
    "    _, n = data.shape\n",
    "    for i in range(n - 1) :\n",
    "        values = data[:, i]\n",
    "        different = np.unique(values)\n",
    "        \n",
    "        potential_split[i] = different\n",
    "    return potential_split\n",
    "        "
   ]
  },
  {
   "cell_type": "code",
   "execution_count": 8,
   "metadata": {},
   "outputs": [],
   "source": [
    "def split (data, column, value) :\n",
    "    values = data[:, column]\n",
    "    left = data[values <= value]\n",
    "    right = data[values > value]\n",
    "    \n",
    "    return left, right"
   ]
  },
  {
   "cell_type": "code",
   "execution_count": 9,
   "metadata": {},
   "outputs": [],
   "source": [
    "def entropy (data) :\n",
    "    label = data[:, -1]\n",
    "    different, count = np.unique(label, return_counts = True)\n",
    "    prob = count / count.sum()\n",
    "    e = sum(prob * -np.log2(prob))\n",
    "    \n",
    "    return e"
   ]
  },
  {
   "cell_type": "code",
   "execution_count": 10,
   "metadata": {},
   "outputs": [],
   "source": [
    "def total_entropy(left, right) :\n",
    "    total = len(left) + len(right)\n",
    "    pleft = len(left) / total\n",
    "    pright = len(right) / total\n",
    "    \n",
    "    te = (pleft * entropy(left) + pright * entropy(right))\n",
    "    \n",
    "    return te"
   ]
  },
  {
   "cell_type": "code",
   "execution_count": 11,
   "metadata": {},
   "outputs": [],
   "source": [
    "def best_split(data) :\n",
    "    potential_split = potential_splits(data)\n",
    "    \n",
    "    te = 10000000\n",
    "    for i in potential_split :\n",
    "        for j in potential_split[i] :\n",
    "            left, right = split(data, i, j)\n",
    "            \n",
    "            oe = total_entropy(left, right)\n",
    "            if oe <= te :\n",
    "                b_column = i\n",
    "                b_value = j\n",
    "                te = oe\n",
    "    return b_column, b_value"
   ]
  },
  {
   "cell_type": "code",
   "execution_count": 12,
   "metadata": {},
   "outputs": [],
   "source": [
    "def build_tree (data, depth , min_samples, max_depth) :\n",
    "    if (isPure(data)) or (len(data) < min_samples) or (depth == max_depth) :\n",
    "        return predict(data)\n",
    "    \n",
    "    else :\n",
    "        depth += 1\n",
    "        column, value = best_split(data)\n",
    "        left, right = split(data, column, value)\n",
    "        \n",
    "        question = \"{} <= {}\".format(column, value)\n",
    "        \n",
    "        sub_tree = {question : []}\n",
    "        \n",
    "        yes = build_tree(left, depth, min_samples, max_depth)\n",
    "        no = build_tree(right, depth, min_samples, max_depth)\n",
    "        \n",
    "        if yes == no :\n",
    "            sub_tree = yes\n",
    "        else :\n",
    "            sub_tree[question].append(yes)\n",
    "            sub_tree[question].append(no)\n",
    "            \n",
    "        return sub_tree"
   ]
  },
  {
   "cell_type": "code",
   "execution_count": 13,
   "metadata": {},
   "outputs": [
    {
     "data": {
      "text/plain": [
       "{'0 <= 0.2952': [{'1 <= 5.8333': [{'2 <= 6.7807': [1.0,\n",
       "      {'1 <= -5.1877': [1.0, 0.0]}]},\n",
       "    {'0 <= -4.2249': [{'3 <= -2.9155': [1.0, 0.0]}, 0.0]}]},\n",
       "  {'0 <= 2.2279': [{'2 <= -2.2126': [{'1 <= 5.2022': [1.0, 0.0]},\n",
       "      {'0 <= 0.74428': [{'3 <= -0.18967': [0.0, {'2 <= 1.6131': [1.0, 0.0]}]},\n",
       "        0.0]}]},\n",
       "    0.0]}]}"
      ]
     },
     "execution_count": 13,
     "metadata": {},
     "output_type": "execute_result"
    }
   ],
   "source": [
    "tree = build_tree(train_data, 0, 5, 10)\n",
    "tree"
   ]
  },
  {
   "cell_type": "code",
   "execution_count": 14,
   "metadata": {},
   "outputs": [],
   "source": [
    "def classify (test, tree) :\n",
    "    question = list(tree.keys())[0]\n",
    "    column, operator, value = question.split(\" \")\n",
    "    \n",
    "    if test[int(column)] <= float(value) :\n",
    "        answer = tree[question][0]\n",
    "    else :\n",
    "        answer = tree[question][1]\n",
    "    \n",
    "    \n",
    "    if not isinstance(answer, dict) :\n",
    "        return answer\n",
    "    else :\n",
    "        return classify(test, answer)\n"
   ]
  },
  {
   "cell_type": "code",
   "execution_count": 15,
   "metadata": {},
   "outputs": [
    {
     "name": "stdout",
     "output_type": "stream",
     "text": [
      "97.81341107871721\n"
     ]
    }
   ],
   "source": [
    "correct = 0\n",
    "for i in range(len(test)) :\n",
    "    prediction = classify(test.iloc[i], tree)\n",
    "    if float(prediction) == test.iloc[i, -1] :\n",
    "        correct += 1\n",
    "print(correct / len(test) * 100)"
   ]
  },
  {
   "cell_type": "code",
   "execution_count": null,
   "metadata": {},
   "outputs": [],
   "source": []
  }
 ],
 "metadata": {
  "kernelspec": {
   "display_name": "Python 3",
   "language": "python",
   "name": "python3"
  },
  "language_info": {
   "codemirror_mode": {
    "name": "ipython",
    "version": 3
   },
   "file_extension": ".py",
   "mimetype": "text/x-python",
   "name": "python",
   "nbconvert_exporter": "python",
   "pygments_lexer": "ipython3",
   "version": "3.7.1"
  }
 },
 "nbformat": 4,
 "nbformat_minor": 2
}
