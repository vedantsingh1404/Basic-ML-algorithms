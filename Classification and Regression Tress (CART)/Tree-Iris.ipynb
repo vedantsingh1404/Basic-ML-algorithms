{
 "cells": [
  {
   "cell_type": "code",
   "execution_count": 1,
   "metadata": {},
   "outputs": [],
   "source": [
    "import numpy as np\n",
    "import pandas as pd\n",
    "from sklearn.model_selection import train_test_split"
   ]
  },
  {
   "cell_type": "code",
   "execution_count": 2,
   "metadata": {},
   "outputs": [],
   "source": [
    "data = pd.read_csv(\"/Users/vedantsingh/Downloads/iris-species/Iris.csv\")"
   ]
  },
  {
   "cell_type": "code",
   "execution_count": 3,
   "metadata": {},
   "outputs": [],
   "source": [
    "data.drop(columns = ['Id'], inplace = True)\n",
    "col = list(data.columns.values)\n",
    "train_data = data.values"
   ]
  },
  {
   "cell_type": "code",
   "execution_count": 4,
   "metadata": {},
   "outputs": [],
   "source": [
    "def isPure (data) :\n",
    "    label = data[:, -1]\n",
    "    different = np.unique(label)\n",
    "    \n",
    "    if len(different) == 1 :\n",
    "        return True\n",
    "    else:\n",
    "        return False\n",
    "\n",
    "def predict (data) :\n",
    "    label = data[:, -1]\n",
    "    different, counts = np.unique(label, return_counts = True)\n",
    "    \n",
    "    i = counts.argmax()\n",
    "    return different[i], counts[i]"
   ]
  },
  {
   "cell_type": "code",
   "execution_count": 5,
   "metadata": {},
   "outputs": [],
   "source": [
    "def potential_splits (data) :\n",
    "    potential_split = {}\n",
    "    _, n = data.shape\n",
    "    for i in range(n - 1) :\n",
    "        values = data[:, i]\n",
    "        different = np.unique(values)\n",
    "        \n",
    "        potential_split[i] = different\n",
    "    return potential_split"
   ]
  },
  {
   "cell_type": "code",
   "execution_count": 6,
   "metadata": {},
   "outputs": [],
   "source": [
    "def entropy (data) :\n",
    "    label = data[:, -1]\n",
    "    different, count = np.unique(label, return_counts = True)\n",
    "    prob = count / count.sum()\n",
    "    e = sum(prob * -np.log2(prob))\n",
    "    \n",
    "    return e"
   ]
  },
  {
   "cell_type": "code",
   "execution_count": 7,
   "metadata": {},
   "outputs": [],
   "source": [
    "def total_entropy(left, right) :\n",
    "    total = len(left) + len(right)\n",
    "    pleft = len(left) / total\n",
    "    pright = len(right) / total\n",
    "    \n",
    "    # weighted mean of left and right entropies to get the total entropy\n",
    "    te = (pleft * entropy(left) + pright * entropy(right)) \n",
    "    \n",
    "    return te"
   ]
  },
  {
   "cell_type": "code",
   "execution_count": 8,
   "metadata": {},
   "outputs": [],
   "source": [
    "def split (data, column, value) :\n",
    "    values = data[:, column]\n",
    "    left = data[values <= value]\n",
    "    right = data[values > value]\n",
    "    \n",
    "    return left, right"
   ]
  },
  {
   "cell_type": "code",
   "execution_count": 9,
   "metadata": {},
   "outputs": [],
   "source": [
    "def gain_ratio(data, left, right) :\n",
    "    e = entropy(data)\n",
    "    te = total_entropy(left, right)\n",
    "    \n",
    "    info_gain = e - te\n",
    "    \n",
    "    total = len(left) + len(right)\n",
    "    pleft = len(left) / total\n",
    "    pright = len(right) / total\n",
    "    \n",
    "    split_info = (pleft * -np.log2(pleft)) + (pright * -np.log2(pright))\n",
    "    gain_ratio = info_gain / split_info\n",
    "    return gain_ratio"
   ]
  },
  {
   "cell_type": "code",
   "execution_count": 10,
   "metadata": {},
   "outputs": [],
   "source": [
    "def best_split(data) :\n",
    "    potential_split = potential_splits(data)\n",
    "    \n",
    "    g = -10000000\n",
    "    for i in potential_split :\n",
    "        for j in potential_split[i] :\n",
    "            left, right = split(data, i, j)\n",
    "            \n",
    "            gr = gain_ratio(data, left, right)\n",
    "            if gr > g :\n",
    "                b_column = i\n",
    "                b_value = j\n",
    "                g = gr\n",
    "    return b_column, b_value, g"
   ]
  },
  {
   "cell_type": "code",
   "execution_count": 11,
   "metadata": {},
   "outputs": [],
   "source": [
    "def do_split(data, counter) :\n",
    "    b_column, b_value, gr = best_split(data)\n",
    "    left, right = split(data, b_column, b_value)\n",
    "    print (\"Level {}\".format(counter))\n",
    "    label = data[:, -1]\n",
    "    different, count = np.unique(label, return_counts = True)\n",
    "    for i in range(len(different)) :\n",
    "        print (\"Count of {} = {}\".format(different[i], count[i]))\n",
    "    e = entropy(data)\n",
    "    print (\"Current entropy is = {}\".format(e))\n",
    "    col_name = col[b_column]\n",
    "    print (\"Splitting on feature {} with gain ratio {}\".format(col_name, gr))\n",
    "    print (\" \")\n",
    "    printTree(left, counter + 1)\n",
    "    printTree(right, counter + 1)"
   ]
  },
  {
   "cell_type": "code",
   "execution_count": 12,
   "metadata": {},
   "outputs": [],
   "source": [
    "def printTree(data, counter) :\n",
    "    m, n = data.shape\n",
    "    if (isPure(data)) :\n",
    "        print (\"Level {}\".format(counter))\n",
    "        pred, count = predict(data)\n",
    "        print (\"Count of {} = {}\".format(pred, count))\n",
    "        print (\"Current Entropy = 0.0\")\n",
    "        print (\"Reached Leaf Node\") \n",
    "        print (\" \")\n",
    "    else :\n",
    "        do_split(data, counter)"
   ]
  },
  {
   "cell_type": "code",
   "execution_count": 13,
   "metadata": {},
   "outputs": [
    {
     "name": "stdout",
     "output_type": "stream",
     "text": [
      "Level 0\n",
      "Count of Iris-setosa = 50\n",
      "Count of Iris-versicolor = 50\n",
      "Count of Iris-virginica = 50\n",
      "Current entropy is = 1.584962500721156\n",
      "Splitting on feature PetalLengthCm with gain ratio 0.9999999999999999\n",
      " \n",
      "Level 1\n",
      "Count of Iris-setosa = 50\n",
      "Current Entropy = 0.0\n",
      "Reached Leaf Node\n",
      " \n",
      "Level 1\n",
      "Count of Iris-versicolor = 50\n",
      "Count of Iris-virginica = 50\n",
      "Current entropy is = 1.0\n",
      "Splitting on feature PetalWidthCm with gain ratio 0.6933647985912663\n",
      " \n",
      "Level 2\n",
      "Count of Iris-versicolor = 49\n",
      "Count of Iris-virginica = 5\n",
      "Current entropy is = 0.44506485705083865\n",
      "Splitting on feature PetalLengthCm with gain ratio 0.606617822020301\n",
      " \n",
      "Level 3\n",
      "Count of Iris-versicolor = 49\n",
      "Count of Iris-virginica = 3\n",
      "Current entropy is = 0.31821529768323314\n",
      "Splitting on feature PetalLengthCm with gain ratio 0.2720453440631925\n",
      " \n",
      "Level 4\n",
      "Count of Iris-versicolor = 47\n",
      "Count of Iris-virginica = 1\n",
      "Current entropy is = 0.1460942501201363\n",
      "Splitting on feature PetalWidthCm with gain ratio 1.0\n",
      " \n",
      "Level 5\n",
      "Count of Iris-versicolor = 47\n",
      "Current Entropy = 0.0\n",
      "Reached Leaf Node\n",
      " \n",
      "Level 5\n",
      "Count of Iris-virginica = 1\n",
      "Current Entropy = 0.0\n",
      "Reached Leaf Node\n",
      " \n",
      "Level 4\n",
      "Count of Iris-versicolor = 2\n",
      "Count of Iris-virginica = 2\n",
      "Current entropy is = 1.0\n",
      "Splitting on feature PetalWidthCm with gain ratio 1.0\n",
      " \n",
      "Level 5\n",
      "Count of Iris-virginica = 2\n",
      "Current Entropy = 0.0\n",
      "Reached Leaf Node\n",
      " \n",
      "Level 5\n",
      "Count of Iris-versicolor = 2\n",
      "Current Entropy = 0.0\n",
      "Reached Leaf Node\n",
      " \n",
      "Level 3\n",
      "Count of Iris-virginica = 2\n",
      "Current Entropy = 0.0\n",
      "Reached Leaf Node\n",
      " \n",
      "Level 2\n",
      "Count of Iris-versicolor = 1\n",
      "Count of Iris-virginica = 45\n",
      "Current entropy is = 0.15109697051711368\n",
      "Splitting on feature PetalLengthCm with gain ratio 0.2622302372762406\n",
      " \n",
      "Level 3\n",
      "Count of Iris-versicolor = 1\n",
      "Count of Iris-virginica = 2\n",
      "Current entropy is = 0.9182958340544896\n",
      "Splitting on feature SepalLengthCm with gain ratio 1.0\n",
      " \n",
      "Level 4\n",
      "Count of Iris-versicolor = 1\n",
      "Current Entropy = 0.0\n",
      "Reached Leaf Node\n",
      " \n",
      "Level 4\n",
      "Count of Iris-virginica = 2\n",
      "Current Entropy = 0.0\n",
      "Reached Leaf Node\n",
      " \n",
      "Level 3\n",
      "Count of Iris-virginica = 43\n",
      "Current Entropy = 0.0\n",
      "Reached Leaf Node\n",
      " \n"
     ]
    },
    {
     "name": "stderr",
     "output_type": "stream",
     "text": [
      "/anaconda3/lib/python3.7/site-packages/ipykernel_launcher.py:11: RuntimeWarning: divide by zero encountered in log2\n",
      "  # This is added back by InteractiveShellApp.init_path()\n",
      "/anaconda3/lib/python3.7/site-packages/ipykernel_launcher.py:11: RuntimeWarning: invalid value encountered in double_scalars\n",
      "  # This is added back by InteractiveShellApp.init_path()\n"
     ]
    }
   ],
   "source": [
    "printTree(train_data, 0)"
   ]
  },
  {
   "cell_type": "code",
   "execution_count": null,
   "metadata": {},
   "outputs": [],
   "source": []
  }
 ],
 "metadata": {
  "kernelspec": {
   "display_name": "Python 3",
   "language": "python",
   "name": "python3"
  },
  "language_info": {
   "codemirror_mode": {
    "name": "ipython",
    "version": 3
   },
   "file_extension": ".py",
   "mimetype": "text/x-python",
   "name": "python",
   "nbconvert_exporter": "python",
   "pygments_lexer": "ipython3",
   "version": "3.7.1"
  }
 },
 "nbformat": 4,
 "nbformat_minor": 2
}
