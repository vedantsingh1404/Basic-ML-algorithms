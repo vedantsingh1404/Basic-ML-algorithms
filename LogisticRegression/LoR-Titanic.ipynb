{
 "cells": [
  {
   "cell_type": "code",
   "execution_count": 41,
   "metadata": {},
   "outputs": [],
   "source": [
    "import numpy as np\n",
    "import pandas as pd\n",
    "import matplotlib.pyplot as plt\n",
    "from sklearn.linear_model import LogisticRegression"
   ]
  },
  {
   "cell_type": "code",
   "execution_count": 42,
   "metadata": {},
   "outputs": [],
   "source": [
    "train = pd.read_csv(\"/Users/vedantsingh/Downloads/0000000000002429_training_titanic_x_y_train.csv\")"
   ]
  },
  {
   "cell_type": "code",
   "execution_count": 43,
   "metadata": {},
   "outputs": [],
   "source": [
    "x_train = train.iloc[:, :-1]\n",
    "y_train = train.iloc[:, -1]"
   ]
  },
  {
   "cell_type": "code",
   "execution_count": 44,
   "metadata": {},
   "outputs": [],
   "source": [
    "x_train.drop(columns = ['Name', 'Cabin', 'Ticket'], inplace = True)\n",
    "x_train.replace({'Embarked' : {'S' : 1, 'C' : 2, 'Q' : 3}}, inplace = True)\n",
    "x_train.replace({'Sex' : {'female' : 1, 'male' : 0}}, inplace = True)\n",
    "x_train['Embarked'].fillna(2, inplace = True)"
   ]
  },
  {
   "cell_type": "code",
   "execution_count": 45,
   "metadata": {},
   "outputs": [
    {
     "name": "stderr",
     "output_type": "stream",
     "text": [
      "/anaconda3/lib/python3.7/site-packages/pandas/core/generic.py:5434: SettingWithCopyWarning: \n",
      "A value is trying to be set on a copy of a slice from a DataFrame\n",
      "\n",
      "See the caveats in the documentation: http://pandas.pydata.org/pandas-docs/stable/indexing.html#indexing-view-versus-copy\n",
      "  self._update_inplace(new_data)\n"
     ]
    }
   ],
   "source": [
    "for i in range(1, 4) :\n",
    "    me = x_train[x_train['Pclass'] == i]['Age'].mean()\n",
    "    d = x_train[x_train['Pclass'] == i]\n",
    "    d['Age'].fillna(me, inplace = True)\n",
    "    x_train[x_train['Pclass'] == i] = d\n",
    "# x_train"
   ]
  },
  {
   "cell_type": "code",
   "execution_count": 46,
   "metadata": {},
   "outputs": [
    {
     "name": "stderr",
     "output_type": "stream",
     "text": [
      "/anaconda3/lib/python3.7/site-packages/sklearn/linear_model/logistic.py:433: FutureWarning: Default solver will be changed to 'lbfgs' in 0.22. Specify a solver to silence this warning.\n",
      "  FutureWarning)\n"
     ]
    },
    {
     "data": {
      "text/plain": [
       "0.7964071856287425"
      ]
     },
     "execution_count": 46,
     "metadata": {},
     "output_type": "execute_result"
    }
   ],
   "source": [
    "alg = LogisticRegression()\n",
    "alg.fit(x_train, y_train)\n",
    "alg.score(x_train, y_train)"
   ]
  },
  {
   "cell_type": "code",
   "execution_count": 47,
   "metadata": {},
   "outputs": [],
   "source": [
    "col = list(x_train)\n",
    "x_test = pd.read_csv(\"/Users/vedantsingh/Downloads/0000000000002429_test_titanic_x_test.csv\",)"
   ]
  },
  {
   "cell_type": "code",
   "execution_count": 48,
   "metadata": {},
   "outputs": [
    {
     "name": "stderr",
     "output_type": "stream",
     "text": [
      "/anaconda3/lib/python3.7/site-packages/pandas/core/generic.py:5434: SettingWithCopyWarning: \n",
      "A value is trying to be set on a copy of a slice from a DataFrame\n",
      "\n",
      "See the caveats in the documentation: http://pandas.pydata.org/pandas-docs/stable/indexing.html#indexing-view-versus-copy\n",
      "  self._update_inplace(new_data)\n"
     ]
    }
   ],
   "source": [
    "x_test\n",
    "x_test.drop(columns = ['Name', 'Ticket', 'Cabin'], inplace = True)\n",
    "x_test.replace({'Embarked' : {'S' : 1, 'C' : 2, 'Q' : 3}}, inplace = True)\n",
    "x_test.replace({'Sex' : {'female' : 1, 'male' : 0}}, inplace = True)\n",
    "x_test['Embarked'].fillna(2, inplace = True)\n",
    "\n",
    "for i in range(1, 4) :\n",
    "    me = x_test[x_test['Pclass'] == i]['Age'].mean()\n",
    "    d = x_test[x_test['Pclass'] == i]\n",
    "    d['Age'].fillna(me, inplace = True)\n",
    "    x_test[x_test['Pclass'] == i] = d\n",
    "# x_test, x_train"
   ]
  },
  {
   "cell_type": "code",
   "execution_count": 49,
   "metadata": {},
   "outputs": [],
   "source": [
    "y_pred = alg.predict(x_test)\n",
    "# y_pred.shape"
   ]
  },
  {
   "cell_type": "code",
   "execution_count": 50,
   "metadata": {},
   "outputs": [],
   "source": [
    "np.savetxt(\"/Users/vedantsingh/Desktop/predtitanic.csv\", y_pred, delimiter = ',')"
   ]
  }
 ],
 "metadata": {
  "kernelspec": {
   "display_name": "Python 3",
   "language": "python",
   "name": "python3"
  },
  "language_info": {
   "codemirror_mode": {
    "name": "ipython",
    "version": 3
   },
   "file_extension": ".py",
   "mimetype": "text/x-python",
   "name": "python",
   "nbconvert_exporter": "python",
   "pygments_lexer": "ipython3",
   "version": "3.7.1"
  }
 },
 "nbformat": 4,
 "nbformat_minor": 2
}
