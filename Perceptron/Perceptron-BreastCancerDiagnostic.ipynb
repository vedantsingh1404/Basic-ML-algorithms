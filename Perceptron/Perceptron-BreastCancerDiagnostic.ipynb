{
 "cells": [
  {
   "cell_type": "code",
   "execution_count": 1,
   "metadata": {},
   "outputs": [],
   "source": [
    "import numpy as np\n",
    "import pandas as pd\n",
    "from sklearn.model_selection import train_test_split"
   ]
  },
  {
   "cell_type": "code",
   "execution_count": 2,
   "metadata": {},
   "outputs": [],
   "source": [
    "df = pd.read_csv('https://archive.ics.uci.edu/ml/machine-learning-databases/breast-cancer-wisconsin/breast-cancer-wisconsin.data', names = [\"id\", \"radius\", \"texture\", \"perimeter\", \"area\", \"smoothness\", \"compactness\", \"concavity\", \"points\", \"symmetry\", \"fractal\"])"
   ]
  },
  {
   "cell_type": "code",
   "execution_count": 3,
   "metadata": {},
   "outputs": [],
   "source": [
    "df = df.replace({'compactness' : {'?' : np.NaN}})\n",
    "df = df.replace({'fractal' : {2 : 0, 4 : 1}})"
   ]
  },
  {
   "cell_type": "code",
   "execution_count": 4,
   "metadata": {},
   "outputs": [],
   "source": [
    "df = df[pd.notnull(df['compactness'])]"
   ]
  },
  {
   "cell_type": "code",
   "execution_count": 5,
   "metadata": {},
   "outputs": [
    {
     "data": {
      "text/html": [
       "<div>\n",
       "<style scoped>\n",
       "    .dataframe tbody tr th:only-of-type {\n",
       "        vertical-align: middle;\n",
       "    }\n",
       "\n",
       "    .dataframe tbody tr th {\n",
       "        vertical-align: top;\n",
       "    }\n",
       "\n",
       "    .dataframe thead th {\n",
       "        text-align: right;\n",
       "    }\n",
       "</style>\n",
       "<table border=\"1\" class=\"dataframe\">\n",
       "  <thead>\n",
       "    <tr style=\"text-align: right;\">\n",
       "      <th></th>\n",
       "      <th>radius</th>\n",
       "      <th>texture</th>\n",
       "      <th>perimeter</th>\n",
       "      <th>area</th>\n",
       "      <th>smoothness</th>\n",
       "      <th>compactness</th>\n",
       "      <th>concavity</th>\n",
       "      <th>points</th>\n",
       "      <th>symmetry</th>\n",
       "      <th>fractal</th>\n",
       "    </tr>\n",
       "  </thead>\n",
       "  <tbody>\n",
       "    <tr>\n",
       "      <th>0</th>\n",
       "      <td>0.444444</td>\n",
       "      <td>0.000000</td>\n",
       "      <td>0.000000</td>\n",
       "      <td>0.000000</td>\n",
       "      <td>0.111111</td>\n",
       "      <td>0.000000</td>\n",
       "      <td>0.222222</td>\n",
       "      <td>0.000000</td>\n",
       "      <td>0.0</td>\n",
       "      <td>0.0</td>\n",
       "    </tr>\n",
       "    <tr>\n",
       "      <th>1</th>\n",
       "      <td>0.444444</td>\n",
       "      <td>0.333333</td>\n",
       "      <td>0.333333</td>\n",
       "      <td>0.444444</td>\n",
       "      <td>0.666667</td>\n",
       "      <td>1.000000</td>\n",
       "      <td>0.222222</td>\n",
       "      <td>0.111111</td>\n",
       "      <td>0.0</td>\n",
       "      <td>0.0</td>\n",
       "    </tr>\n",
       "    <tr>\n",
       "      <th>2</th>\n",
       "      <td>0.222222</td>\n",
       "      <td>0.000000</td>\n",
       "      <td>0.000000</td>\n",
       "      <td>0.000000</td>\n",
       "      <td>0.111111</td>\n",
       "      <td>0.111111</td>\n",
       "      <td>0.222222</td>\n",
       "      <td>0.000000</td>\n",
       "      <td>0.0</td>\n",
       "      <td>0.0</td>\n",
       "    </tr>\n",
       "    <tr>\n",
       "      <th>3</th>\n",
       "      <td>0.555556</td>\n",
       "      <td>0.777778</td>\n",
       "      <td>0.777778</td>\n",
       "      <td>0.000000</td>\n",
       "      <td>0.222222</td>\n",
       "      <td>0.333333</td>\n",
       "      <td>0.222222</td>\n",
       "      <td>0.666667</td>\n",
       "      <td>0.0</td>\n",
       "      <td>0.0</td>\n",
       "    </tr>\n",
       "    <tr>\n",
       "      <th>4</th>\n",
       "      <td>0.333333</td>\n",
       "      <td>0.000000</td>\n",
       "      <td>0.000000</td>\n",
       "      <td>0.222222</td>\n",
       "      <td>0.111111</td>\n",
       "      <td>0.000000</td>\n",
       "      <td>0.222222</td>\n",
       "      <td>0.000000</td>\n",
       "      <td>0.0</td>\n",
       "      <td>0.0</td>\n",
       "    </tr>\n",
       "  </tbody>\n",
       "</table>\n",
       "</div>"
      ],
      "text/plain": [
       "     radius   texture  perimeter      area  smoothness  compactness  \\\n",
       "0  0.444444  0.000000   0.000000  0.000000    0.111111     0.000000   \n",
       "1  0.444444  0.333333   0.333333  0.444444    0.666667     1.000000   \n",
       "2  0.222222  0.000000   0.000000  0.000000    0.111111     0.111111   \n",
       "3  0.555556  0.777778   0.777778  0.000000    0.222222     0.333333   \n",
       "4  0.333333  0.000000   0.000000  0.222222    0.111111     0.000000   \n",
       "\n",
       "   concavity    points  symmetry  fractal  \n",
       "0   0.222222  0.000000       0.0      0.0  \n",
       "1   0.222222  0.111111       0.0      0.0  \n",
       "2   0.222222  0.000000       0.0      0.0  \n",
       "3   0.222222  0.666667       0.0      0.0  \n",
       "4   0.222222  0.000000       0.0      0.0  "
      ]
     },
     "execution_count": 5,
     "metadata": {},
     "output_type": "execute_result"
    }
   ],
   "source": [
    "df = df.drop(columns = 'id')\n",
    "df = df.astype(np.float64)\n",
    "for i in range(0, 10) :\n",
    "    mini = min(df.iloc[:, i])\n",
    "    maxi = max(df.iloc[:, i])\n",
    "    df.iloc[:, i] = (df.iloc[:, i] - mini) / (maxi - mini)\n",
    "df.head()"
   ]
  },
  {
   "cell_type": "code",
   "execution_count": 6,
   "metadata": {},
   "outputs": [],
   "source": [
    "def predict(weights, test) :\n",
    "    value = weights[0]\n",
    "    for i in range(len(test) - 1) :\n",
    "        value += weights[i + 1] * test[i + 1]\n",
    "        \n",
    "    if value >= 0:\n",
    "        return 1\n",
    "    else:\n",
    "        return 0\n",
    "\n",
    "def training(weights, train, l_rate, epochs) :\n",
    "    for i in range(epochs) :\n",
    "        error = 0\n",
    "        for j in range(len(train)) :\n",
    "            prediction = predict(weights, train.iloc[j])\n",
    "            loss = train.iloc[j, -1] - prediction\n",
    "            error += loss ** 2\n",
    "            weights[1:] += l_rate * loss * train.iloc[j, :9]\n",
    "            weights[0] += l_rate * loss\n",
    "\n",
    "#         print(error)\n",
    "    return weights"
   ]
  },
  {
   "cell_type": "code",
   "execution_count": 7,
   "metadata": {
    "scrolled": false
   },
   "outputs": [
    {
     "name": "stdout",
     "output_type": "stream",
     "text": [
      "[ -85.8         244.37777778  -38.04444444  100.46666667  -57.71111111\n",
      "   28.35555556  271.42222222 -101.8         317.84444444  -39.53333333]\n",
      "[-8.00000000e-01  4.66666667e-01 -2.22222222e-02  6.66666667e-02\n",
      " -3.55555556e-01  8.88888889e-02 -1.77777778e-01 -2.77555756e-17\n",
      " -1.11111111e-01  1.13333333e+00]\n",
      "[-35.          90.62222222 -30.42222222  47.4        -63.13333333\n",
      "  93.75555556 -49.57777778  84.13333333  59.22222222  -9.73333333]\n",
      "[ -96.4         199.95555556   63.77777778  146.62222222  -62.68888889\n",
      "   86.88888889  146.57777778 -116.6         372.          -56.88888889]\n",
      "[-147.          300.24444444  -71.88888889   52.75555556  197.75555556\n",
      "  -83.48888889  436.91111111 -101.64444444  254.42222222  -22.55555556]\n",
      "[-0.4         0.33333333  0.08888889  0.24444444  0.02222222 -0.06666667\n",
      " -0.08888889 -0.08888889  0.08888889  0.46666667]\n",
      "[-87.6        228.06666667 -33.04444444 100.31111111  31.35555556\n",
      "  36.71111111 152.93333333 -86.44444444 218.26666667 -42.42222222]\n",
      "[-42.6        133.95555556 -66.06666667  24.28888889   7.95555556\n",
      "  33.84444444  76.48888889 -24.84444444 222.84444444 -21.15555556]\n",
      "[ -85.6         252.62222222  -75.4         132.86666667  -69.13333333\n",
      "  108.26666667   97.08888889   68.68888889  231.62222222 -103.82222222]\n",
      "[-42.6        115.53333333 -79.68888889  73.53333333   7.91111111\n",
      "  41.24444444  17.35555556  12.44444444 222.4        -16.26666667]\n",
      "93.65497076023391\n"
     ]
    }
   ],
   "source": [
    "sum = 0\n",
    "for j in range(10) :\n",
    "    epochs = 300\n",
    "    l_rate = 0.2\n",
    "    weights = np.zeros(10)\n",
    "    train, test = train_test_split(df, test_size = 0.5)\n",
    "    weights = training(weights, train, l_rate, epochs)\n",
    "    print(weights)\n",
    "    correct = 0\n",
    "    for i in range(len(test)) :\n",
    "        result = predict(weights, test.iloc[i])\n",
    "        if result == test.iloc[i, -1] : \n",
    "            correct += 1\n",
    "    accuracy = correct / len(test) * 100\n",
    "    sum += accuracy\n",
    "print(sum / 10)"
   ]
  },
  {
   "cell_type": "code",
   "execution_count": null,
   "metadata": {},
   "outputs": [],
   "source": []
  }
 ],
 "metadata": {
  "kernelspec": {
   "display_name": "Python 3",
   "language": "python",
   "name": "python3"
  },
  "language_info": {
   "codemirror_mode": {
    "name": "ipython",
    "version": 3
   },
   "file_extension": ".py",
   "mimetype": "text/x-python",
   "name": "python",
   "nbconvert_exporter": "python",
   "pygments_lexer": "ipython3",
   "version": "3.7.1"
  }
 },
 "nbformat": 4,
 "nbformat_minor": 2
}
