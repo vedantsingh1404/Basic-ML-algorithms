{
 "cells": [
  {
   "cell_type": "code",
   "execution_count": 1,
   "metadata": {},
   "outputs": [],
   "source": [
    "import numpy as np\n",
    "import pandas as pd\n",
    "from sklearn.model_selection import train_test_split"
   ]
  },
  {
   "cell_type": "code",
   "execution_count": 2,
   "metadata": {},
   "outputs": [],
   "source": [
    "df = pd.read_csv('https://archive.ics.uci.edu/ml/machine-learning-databases/00267/data_banknote_authentication.txt', names = [\"variance\", \"skewness\", \"curtosis\", \"entropy\", \"class\"])"
   ]
  },
  {
   "cell_type": "code",
   "execution_count": 3,
   "metadata": {},
   "outputs": [
    {
     "data": {
      "text/html": [
       "<div>\n",
       "<style scoped>\n",
       "    .dataframe tbody tr th:only-of-type {\n",
       "        vertical-align: middle;\n",
       "    }\n",
       "\n",
       "    .dataframe tbody tr th {\n",
       "        vertical-align: top;\n",
       "    }\n",
       "\n",
       "    .dataframe thead th {\n",
       "        text-align: right;\n",
       "    }\n",
       "</style>\n",
       "<table border=\"1\" class=\"dataframe\">\n",
       "  <thead>\n",
       "    <tr style=\"text-align: right;\">\n",
       "      <th></th>\n",
       "      <th>variance</th>\n",
       "      <th>skewness</th>\n",
       "      <th>curtosis</th>\n",
       "      <th>entropy</th>\n",
       "      <th>class</th>\n",
       "    </tr>\n",
       "  </thead>\n",
       "  <tbody>\n",
       "    <tr>\n",
       "      <th>0</th>\n",
       "      <td>3.62160</td>\n",
       "      <td>8.6661</td>\n",
       "      <td>-2.8073</td>\n",
       "      <td>-0.44699</td>\n",
       "      <td>0</td>\n",
       "    </tr>\n",
       "    <tr>\n",
       "      <th>1</th>\n",
       "      <td>4.54590</td>\n",
       "      <td>8.1674</td>\n",
       "      <td>-2.4586</td>\n",
       "      <td>-1.46210</td>\n",
       "      <td>0</td>\n",
       "    </tr>\n",
       "    <tr>\n",
       "      <th>2</th>\n",
       "      <td>3.86600</td>\n",
       "      <td>-2.6383</td>\n",
       "      <td>1.9242</td>\n",
       "      <td>0.10645</td>\n",
       "      <td>0</td>\n",
       "    </tr>\n",
       "    <tr>\n",
       "      <th>3</th>\n",
       "      <td>3.45660</td>\n",
       "      <td>9.5228</td>\n",
       "      <td>-4.0112</td>\n",
       "      <td>-3.59440</td>\n",
       "      <td>0</td>\n",
       "    </tr>\n",
       "    <tr>\n",
       "      <th>4</th>\n",
       "      <td>0.32924</td>\n",
       "      <td>-4.4552</td>\n",
       "      <td>4.5718</td>\n",
       "      <td>-0.98880</td>\n",
       "      <td>0</td>\n",
       "    </tr>\n",
       "  </tbody>\n",
       "</table>\n",
       "</div>"
      ],
      "text/plain": [
       "   variance  skewness  curtosis  entropy  class\n",
       "0   3.62160    8.6661   -2.8073 -0.44699      0\n",
       "1   4.54590    8.1674   -2.4586 -1.46210      0\n",
       "2   3.86600   -2.6383    1.9242  0.10645      0\n",
       "3   3.45660    9.5228   -4.0112 -3.59440      0\n",
       "4   0.32924   -4.4552    4.5718 -0.98880      0"
      ]
     },
     "execution_count": 3,
     "metadata": {},
     "output_type": "execute_result"
    }
   ],
   "source": [
    "df.head()"
   ]
  },
  {
   "cell_type": "code",
   "execution_count": 4,
   "metadata": {},
   "outputs": [],
   "source": [
    "# for i in range(0, 4) :\n",
    "#     mini = min(df.iloc[:, i])\n",
    "#     maxi = max(df.iloc[:, i])\n",
    "#     df.iloc[:, i] = (df.iloc[:, i] - mini) / (maxi - mini)\n",
    "# df.head()"
   ]
  },
  {
   "cell_type": "code",
   "execution_count": 5,
   "metadata": {},
   "outputs": [],
   "source": [
    "def predict(weights, test) :\n",
    "    value = 0\n",
    "    for i in range(len(test) - 1) :\n",
    "        value += weights[i + 1] * test[i]\n",
    "        \n",
    "    if value >= 0:\n",
    "        return 1\n",
    "    else:\n",
    "        return 0\n",
    "\n",
    "def training(weights, train, l_rate, epochs) :\n",
    "    for i in range(epochs) :\n",
    "        for j in range(len(train)) :\n",
    "            prediction = predict(weights, train.iloc[j])\n",
    "            loss = train.iloc[j, -1] - prediction\n",
    "            weights[1:] += l_rate * loss * train.iloc[j, :4]\n",
    "            weights[0] += l_rate * loss\n",
    "\n",
    "    \n",
    "    return weights"
   ]
  },
  {
   "cell_type": "code",
   "execution_count": null,
   "metadata": {},
   "outputs": [
    {
     "name": "stdout",
     "output_type": "stream",
     "text": [
      "[778.2         -3.653599    -2.268585    -2.27181322  -1.17557146]\n",
      "[634.2         -4.49288818  -2.7604395   -3.461277    -2.21089424]\n",
      "[843.7        -4.1328255  -3.210932   -2.0768019  -1.5131013]\n",
      "[649.6         -4.82757152  -2.818394    -3.0593683   -1.74888464]\n",
      "[608.2         -3.40264814  -2.514349    -2.5167      -1.73429132]\n",
      "[621.2         -4.5053819   -2.7865296   -3.55839356  -1.4098362 ]\n",
      "[777.3         -4.01050412  -2.9577395   -2.97706702  -1.79606816]\n",
      "[640.9        -3.6260109  -2.241679   -2.5823081  -1.0153438]\n",
      "[780.4        -3.2807307  -2.648031   -2.2693058  -1.1915776]\n"
     ]
    }
   ],
   "source": [
    "sum = 0\n",
    "for j in range(10) :\n",
    "    train, test = train_test_split(df, test_size = 0.5)\n",
    "    weights = np.zeros(5)\n",
    "    epochs = 200\n",
    "    l_rate = 0.1\n",
    "    weights = training(weights, train, l_rate, epochs)\n",
    "    correct = 0\n",
    "    print(weights)\n",
    "    for i in range(len(test)) :\n",
    "        result = predict(weights, test.iloc[i])\n",
    "        if result == test.iloc[i, -1] : \n",
    "            correct += 1\n",
    "    accuracy = correct / len(test) * 100\n",
    "    sum += accuracy\n",
    "    \n",
    "print(sum / 10)"
   ]
  },
  {
   "cell_type": "code",
   "execution_count": null,
   "metadata": {},
   "outputs": [],
   "source": []
  }
 ],
 "metadata": {
  "kernelspec": {
   "display_name": "Python 3",
   "language": "python",
   "name": "python3"
  },
  "language_info": {
   "codemirror_mode": {
    "name": "ipython",
    "version": 3
   },
   "file_extension": ".py",
   "mimetype": "text/x-python",
   "name": "python",
   "nbconvert_exporter": "python",
   "pygments_lexer": "ipython3",
   "version": "3.7.1"
  }
 },
 "nbformat": 4,
 "nbformat_minor": 2
}
